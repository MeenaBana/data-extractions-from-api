{
 "cells": [
  {
   "cell_type": "markdown",
   "metadata": {
    "id": "TfJvritDO01r"
   },
   "source": [
    "# Skyss API Data Download\n",
    "This notebook contains the code to Download the Data from Skyss API."
   ]
  },
  {
   "cell_type": "markdown",
   "metadata": {
    "id": "kyUyZCPPA6y5"
   },
   "source": [
    "## Install packages\n",
    "Use pip install or poetry install to install the packages.\n",
    "Run the following commands from the terminal open in root directory of this repository.\n",
    "```\n",
    "poetry config virtualenvs.in-project true\n",
    "poetry install\n",
    "```\n",
    "These will create a virtual environment and install the packages specified in the pyproject.toml file. This virtual environment can be used to run this notebook."
   ]
  },
  {
   "cell_type": "markdown",
   "metadata": {
    "id": "5vMqQpO0Pqr5"
   },
   "source": [
    "## Import Libraries"
   ]
  },
  {
   "cell_type": "code",
   "execution_count": 2,
   "metadata": {
    "id": "v-7FXKmaOoIo"
   },
   "outputs": [],
   "source": [
    " # Import the required packeages\n",
    "import requests\n",
    "import json\n",
    "from datetime import datetime, timedelta\n",
    "import pandas as pd\n",
    "import os\n",
    "import urllib3\n",
    "urllib3.disable_warnings()\n",
    "import time\n",
    "from requests import Request, Session\n",
    "from concurrent.futures import ThreadPoolExecutor, as_completed"
   ]
  },
  {
   "cell_type": "markdown",
   "metadata": {
    "id": "6OykKKEjRlXb"
   },
   "source": [
    "## API Config/Setup\n",
    "Set the environment variables (when running locally)"
   ]
  },
  {
   "cell_type": "code",
   "execution_count": null,
   "metadata": {
    "id": "k7-I9Xm9Rpx8"
   },
   "outputs": [],
   "source": [
    "skyss_api_username = os.getenv('SKYSS_API_USERNAME','__')\n",
    "skyss_api_password = os.getenv('SKYSS_API_PASSWORD','__')\n",
    "skyss_api_client_secret = os.getenv('SKYSS_API_CLIENT_SECRET','__')"
   ]
  },
  {
   "cell_type": "markdown",
   "metadata": {
    "id": "_aQj4PfFQC2H"
   },
   "source": [
    "##  Various functions for getting/downloading data\n",
    "To download the data from Skyss API"
   ]
  },
  {
   "cell_type": "code",
   "execution_count": null,
   "metadata": {
    "id": "kXSJ5nfzVkOP"
   },
   "outputs": [],
   "source": [
    "# Define the function for token\n",
    "def get_bearer_token():\n",
    "    '''A function to get the Access Token for connecting to API'''\n",
    "    # Define the required parameters\n",
    "    username = skyss_api_username\n",
    "    password = skyss_api_password\n",
    "    auth_url = 'https://skysspublicapi-identityserver-test.azurewebsites.net/connect/token'\n",
    "    client_id = 'user-client'\n",
    "    client_secret = skyss_api_client_secret\n",
    "    # Submit the Post Request\n",
    "    data = {'grant_type': 'password', 'username': username, 'password': password}\n",
    "    access_token_response = requests.post(auth_url, data=data, verify=False, allow_redirects=False, auth=(client_id, client_secret))\n",
    "    # Print the Status Code\n",
    "    #print(access_token_response.status_code)\n",
    "    tokens = json.loads(access_token_response.text)\n",
    "    token = 'Bearer ' + tokens['access_token']\n",
    "    return token "
   ]
  },
  {
   "cell_type": "code",
   "execution_count": null,
   "metadata": {
    "id": "hrYLEamKVmVe"
   },
   "outputs": [],
   "source": [
    "# Define the function for lines data\n",
    "def getLines(bearer_token):\n",
    "    url = 'https://skyss-public-api-test.azurewebsites.net/api/Lines'\n",
    "    payload={}\n",
    "    headers = {\n",
    "      'Authorization': bearer_token\n",
    "    }\n",
    "    response = requests.request(\"GET\", url, headers=headers, data=payload)\n",
    "    return response.json()"
   ]
  },
  {
   "cell_type": "code",
   "execution_count": null,
   "metadata": {
    "id": "6a8DGQTPV2mW"
   },
   "outputs": [],
   "source": [
    "# Define the function for StopPoints data\n",
    "def getStopPoints(bearer_token):\n",
    "    url = 'https://skyss-public-api-test.azurewebsites.net/api/StopPoints'\n",
    "    payload={}\n",
    "    headers = {\n",
    "      'Authorization': bearer_token\n",
    "    }\n",
    "    response = requests.request(\"GET\", url, headers=headers, data=payload)\n",
    "    return response.json()"
   ]
  },
  {
   "cell_type": "code",
   "execution_count": null,
   "metadata": {
    "id": "TcG-B9SKV6eX"
   },
   "outputs": [],
   "source": [
    "# Define the function for the Stops data length\n",
    "def getStopsDataLength(bearer_token, from_date, to_date):\n",
    "     # Get the Length of Data between two dates\n",
    "    length_url = \"https://skyss-public-api-test.azurewebsites.net/api/stopPoints/Data/Length\"\n",
    "    payload_length = { 'FromOperatingDate': from_date,\n",
    "\t\t\t   'ToOperatingDate': to_date }\n",
    "    headers = { 'Authorization':bearer_token }\n",
    "    status = 0\n",
    "    while status!=200:\n",
    "        try:\n",
    "            response = requests.request(\"GET\", length_url, headers=headers, params=payload_length)\n",
    "            status = response.status_code\n",
    "        except:\n",
    "            print('Request failed for length, Trying again')\n",
    "            bearer_token = get_bearer_token()\n",
    "            headers = { 'Authorization':bearer_token }\n",
    "            response = requests.request(\"GET\", length_url, headers=headers, params=payload_length)\n",
    "            status = response.status_code\n",
    "    data_length = response.json()\n",
    "    print(f'Data Length from {from_date} to {to_date} is : {data_length}')\n",
    "    return data_length "
   ]
  },
  {
   "cell_type": "code",
   "execution_count": null,
   "metadata": {
    "id": "nSnDWIcPV-DH"
   },
   "outputs": [],
   "source": [
    "# Date processing function\n",
    "def date_to_iso_str(date_dt):\n",
    "    '''Function to convert datetime into specific string format'''\n",
    "    return datetime.strftime(date_dt,\"%Y-%m-%dT%H:%M:%S.%f\")[:-3]+\"Z\" "
   ]
  },
  {
   "cell_type": "code",
   "execution_count": null,
   "metadata": {
    "id": "W0kl55ct-yad"
   },
   "outputs": [],
   "source": [
    "trips_df_dtypes = {\n",
    "    'id' : 'object', \n",
    "    'globalTripId': 'object',\n",
    "    'tripKey': 'object',\n",
    "    'tripStatus': 'object',\n",
    "    'operatingDate': 'object',\n",
    "    'timeKey' : 'int64', \n",
    "    'lineKey' : 'int64', \n",
    "    'lineNameShort': 'object', \n",
    "    'routeFromToKey': 'object',\n",
    "    'stopKey' : 'int64',\n",
    "    'nsrQuay': 'object',\n",
    "    'sequenceInJourney' : 'int64',\n",
    "    'isValidAPC' : 'int64',\n",
    "    'onboard' : 'float64',\n",
    "    'enteredIn' : 'float64',\n",
    "    'enteredOut' : 'float64',\n",
    "    'directionCode' : 'int64',\n",
    "    'plannedDepartureTime': 'object',\n",
    "    'plannedTimeSinceLastStop' : 'float64',\n",
    "    'actualDepartureTime': 'object',\n",
    "    'actualTimeSinceLastStop' : 'float64',\n",
    "    'stopDurationSeconds' : 'float64',\n",
    "    'actualRideTime' : 'float64',\n",
    "    'delayOnDepartureSeconds' : 'float64',\n",
    "    'measuredDistanceToPrevPointInJourney' : 'float64',\n",
    "    'totalTripLength' : 'float64',\n",
    "    'isRouteOrigin' : 'int64',\n",
    "    'isRouteDestination' : 'int64',\n",
    "    'seatedCapacity' : 'int64',\n",
    "    'standingCapacity' : 'int64',\n",
    "    'allowedOnboard' : 'int64',\n",
    "    'realisticCapacity' : 'int64',\n",
    "    'isSchoolVacation' : 'int64',\n",
    "    'isPublicHoliday' : 'int64',\n",
    "    'changedAfterDate': 'object',\n",
    "    'actualArrivalTime': 'object',\n",
    "    'plannedArrivalTime': 'object'\n",
    "}"
   ]
  },
  {
   "cell_type": "code",
   "execution_count": null,
   "metadata": {
    "id": "Pcws0P3iJlTn"
   },
   "outputs": [],
   "source": [
    "# Helper function for Sending the Prepared Request & download the data\n",
    "def download_req(req,s):\n",
    "    # Check with a flag for successful download/request\n",
    "    status = 0\n",
    "    while status!=200:\n",
    "        try:\n",
    "            resp = s.send(req)\n",
    "            status = resp.status_code\n",
    "        except:\n",
    "            req.headers['Authorization'] = get_bearer_token()\n",
    "            resp = s.send(req)\n",
    "            status = resp.status_code\n",
    "    data = resp.json()\n",
    "    return data\n",
    "\n",
    "# Define the function for Stops data\n",
    "def getStopsData(bearer_token,from_date,to_date,data_folder):\n",
    "    '''Function to get the Trips Data for Stops, between dates and filtered by Start and Count'''\n",
    "    data_length = getStopsDataLength(bearer_token, from_date, to_date)\n",
    "    data_list = []\n",
    "    # Get the Data for a Start Point and Count of Rows\n",
    "    data_url = \"https://skyss-public-api-test.azurewebsites.net/api/stopPoints/Data\"\n",
    "    headers = { 'Authorization':bearer_token }\n",
    "    start_row = 0\n",
    "    counts_row = 2000\n",
    "    # Make the prepared requests list\n",
    "    req_list = []\n",
    "    while start_row<data_length:\n",
    "        payload_data = { 'FromOperatingDate': from_date,\n",
    "                'ToOperatingDate': to_date,\n",
    "                'start': start_row,\n",
    "                'count': counts_row }\n",
    "        req = Request(\"GET\", data_url, headers=headers, params=payload_data)\n",
    "        prepped = req.prepare()\n",
    "        req_list = req_list+[prepped]\n",
    "        # Update the Start row for the next iteration in loop\n",
    "        start_row = start_row+counts_row\n",
    "    # Now Use Multithreading and Submit the requests\n",
    "    threads= []\n",
    "    with ThreadPoolExecutor(max_workers=50) as executor:\n",
    "        s = Session()\n",
    "        for req in req_list:\n",
    "            threads.append(executor.submit(download_req, req, s)) \n",
    "        for task in as_completed(threads):\n",
    "            data_list = data_list + task.result()\n",
    "    # Save the data into csv files\n",
    "    df = pd.DataFrame(data_list)\n",
    "    df = df.astype(trips_df_dtypes)\n",
    "    # Also fix the values in some columns\n",
    "    # Fixing the 0 value in tripStatus\n",
    "    df.loc[df['tripStatus']=='0','tripStatus']='Zero'\n",
    "    df['tripStatus'] = df['tripStatus'].str.decode('utf8')\n",
    "    # Filename will be the from_date + .csv or .parquet\n",
    "    from_date_str = from_date.split('T')[0]\n",
    "    #file_name = from_date_str+'.csv'\n",
    "    file_name = from_date_str+'.parquet'\n",
    "    # save the file in data_folder\n",
    "    if not os.path.exists(data_folder):\n",
    "        os.makedirs(data_folder)\n",
    "    #df.to_csv(data_folder+'/'+file_name,index=False) \n",
    "    df.to_parquet(data_folder+'/'+file_name,index=False,engine='fastparquet',object_encoding='utf8') "
   ]
  },
  {
   "cell_type": "code",
   "execution_count": null,
   "metadata": {
    "id": "G-QiY1YhQdC2"
   },
   "outputs": [],
   "source": [
    "# Function to get the Trips Data\n",
    "def getTripsData(bearer_token, from_operating_date, to_operating_date,data_folder):\n",
    "    '''Download the Stops Data into datewise csv files for the given date range'''\n",
    "    current_date = from_operating_date\n",
    "    while current_date!=to_operating_date:\n",
    "        next_datetime = pd.to_datetime(current_date) + timedelta(days=1)\n",
    "        next_date = date_to_iso_str(next_datetime)\n",
    "        getStopsData(bearer_token, current_date, next_date,data_folder)\n",
    "        current_date = next_date"
   ]
  },
  {
   "cell_type": "code",
   "execution_count": null,
   "metadata": {
    "id": "jLSQeravWgNo"
   },
   "outputs": [],
   "source": [
    "# Function to download the data\n",
    "def downloadData(data_name, data_params=None):\n",
    "    '''Function to download the dataset given the parameters'''\n",
    "    # Get the required token\n",
    "    bearer_token = get_bearer_token()\n",
    "    if data_name=='lines':\n",
    "      # Call the getLines function\n",
    "      lines_data = getLines(bearer_token)\n",
    "      # Lines data in dataframe format\n",
    "      lines_df = pd.DataFrame(lines_data)\n",
    "      #Write (.csv) the lines data\n",
    "      lines_df.to_csv('Lines.csv',index=False)\n",
    "    elif data_name=='stops':\n",
    "      # Call the getStopPoints function\n",
    "      StopPoints_data = getStopPoints(bearer_token)\n",
    "      # StopPoints data in dataframe format\n",
    "      StopPoints_df = pd.DataFrame(StopPoints_data)\n",
    "      # Read and write (.csv) the stop pints data\n",
    "      StopPoints_df.to_csv('StopPoints.csv',index=False)\n",
    "    elif data_name=='trips':\n",
    "      # Download the daily data for a range of dates\n",
    "      from_operating_date = data_params['from_operating_date']\n",
    "      to_operating_date = data_params['to_operating_date']\n",
    "      data_folder = data_params['data_folder']\n",
    "      getTripsData(bearer_token, from_operating_date, to_operating_date,data_folder)"
   ]
  },
  {
   "cell_type": "markdown",
   "metadata": {
    "id": "lwtPcWehWPhX"
   },
   "source": [
    "## Download the different datasets"
   ]
  },
  {
   "cell_type": "code",
   "execution_count": null,
   "metadata": {
    "id": "s8pQ0B_gZ7za"
   },
   "outputs": [],
   "source": [
    "# For example download the lines data\n",
    "downloadData('lines')"
   ]
  },
  {
   "cell_type": "code",
   "execution_count": null,
   "metadata": {
    "id": "FlJY41I-aXmp"
   },
   "outputs": [],
   "source": [
    "# For example download the stops data\n",
    "downloadData('stops')"
   ]
  },
  {
   "cell_type": "code",
   "execution_count": null,
   "metadata": {
    "id": "qNo6PuHGab1v"
   },
   "outputs": [],
   "source": [
    "# For example download the trips data ( Note, set the data_params accordingly)\n",
    "# Set the data_params for Trips Data\n",
    "data_params = { \n",
    "'from_operating_date' : '2019-10-01T05:00:00.000Z',\n",
    "'to_operating_date' : '2019-12-01T05:00:00.000Z',\n",
    "'data_folder' : 'drive/MyDrive/Trips_pq' # Don't forget to mount the drive\n",
    "}\n",
    "\n",
    "start = time.time()\n",
    "print(\"Start Time\")\n",
    "print(time.ctime())\n",
    "#downloadData('trips', data_params)\n",
    "end = time.time()\n",
    "print(\"End Time\")\n",
    "print(time.ctime())\n",
    "print(\"Time Taken (in Minutes)\")\n",
    "print(int((end - start)/60))"
   ]
  }
 ],
 "metadata": {
  "colab": {
   "collapsed_sections": [],
   "name": "SkyssDataAnalysis.ipynb",
   "provenance": []
  },
  "kernelspec": {
   "display_name": "Python 3.8.10 ('.venv': poetry)",
   "language": "python",
   "name": "python3"
  },
  "language_info": {
   "codemirror_mode": {
    "name": "ipython",
    "version": 3
   },
   "file_extension": ".py",
   "mimetype": "text/x-python",
   "name": "python",
   "nbconvert_exporter": "python",
   "pygments_lexer": "ipython3",
   "version": "3.8.10"
  },
  "vscode": {
   "interpreter": {
    "hash": "e8ba3895aee881d87f538680039e7dcd1980185d6ff19dfdce5d7839c685db46"
   }
  }
 },
 "nbformat": 4,
 "nbformat_minor": 1
}
